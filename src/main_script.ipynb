{
 "cells": [
  {
   "cell_type": "code",
   "execution_count": 1,
   "metadata": {},
   "outputs": [
    {
     "name": "stderr",
     "output_type": "stream",
     "text": [
      "\u001b[32m\u001b[1m  Activating\u001b[22m\u001b[39m environment at `~/Documents/ocrl_hw/Quadrotor_MPC_with_Kalman_Filter/Project.toml`\n"
     ]
    }
   ],
   "source": [
    "import Pkg; Pkg.activate(joinpath(@__DIR__,\"..\")); Pkg.instantiate()\n",
    "using LinearAlgebra\n",
    "using SparseArrays\n",
    "using ForwardDiff\n",
    "using OSQP\n",
    "using RobotDynamics\n",
    "using RobotZoo: PlanarQuadrotor\n",
    "using RobotZoo\n",
    "using StaticArrays\n",
    "using Plots\n",
    "using JLD2\n",
    "using Test\n",
    "using Statistics\n",
    "\n",
    "const FD = ForwardDiff;\n",
    "\n",
    "include(\"quadrotor.jl\");"
   ]
  },
  {
   "cell_type": "markdown",
   "metadata": {},
   "source": [
    "## Quadrotor Dynamics Model\n",
    "\n",
    "The derivation of the 3d Quadrotor Dynamics model we use is available in [Lecture 15's Notes](https://github.com/Optimal-Control-16-745/lecture-notebooks/blob/main/Lecture%2015/Lecture%2015.pdf)\n",
    "\n",
    "$$ \n",
    "x = \\begin{bmatrix} {}^{N}r \\\\ q \\\\ {}^{B}V \\\\ {}^{B}\\omega \\end{bmatrix}, \\quad\n",
    "\\dot{x} = \n",
    "\\begin{bmatrix} \n",
    "    Q {}^{B}V \\\\\n",
    "    \\frac{1}{2} L(q) H {}^{B}\\omega \\\\\n",
    "    \\frac{1}{m} {}^{B}F - {}^{B}\\omega \\times {}^{B}V \\\\\n",
    "    J^{-1} ({}^{B}\\tau - {}^{B}\\omega \\times J {}^{B}\\omega)\n",
    "\\end{bmatrix}\n",
    "$$\n",
    "\n",
    "Where:\n",
    "$$\n",
    "{}^{B}F = Q^T\n",
    "\\begin{bmatrix}\n",
    "0 \\\\ 0 \\\\ -mg\n",
    "\\end{bmatrix}\n",
    "+ \n",
    "\\begin{bmatrix}\n",
    "    0 & 0 & 0 & 0 \\\\\n",
    "    0 & 0 & 0 & 0 \\\\\n",
    "    k_T & k_T & k_T & k_T\n",
    "\\end{bmatrix} u\n",
    "$$\n",
    "\n",
    "$$\n",
    "{}^{B}\\tau = \n",
    "\\begin{bmatrix}\n",
    "    0 & s k_T & 0 & -s k_T \\\\\n",
    "    -s k_T & 0 & s k_T & 0 \\\\\n",
    "    k_m & -k_m & k_m & -k_m\n",
    "\\end{bmatrix} u\n",
    "$$\n",
    "\n",
    "Note that a rotation matrix $Q$ can be obtained from a quaternion $q$ via:\n",
    "$$ \n",
    "Q = R^T(q) L(q)\n",
    "$$\n",
    "\n",
    "Such that:\n",
    "$$\n",
    "\\begin{bmatrix} 0 \\\\ {}^{N}x \\end{bmatrix} = Q \\begin{bmatrix} 0 \\\\ {}^{B}x \\end{bmatrix}\n",
    "$$\n",
    "\n",
    "For more information on the quaternion math, check out `src/quaternions.jl`\n",
    "\n",
    "The model is defined like so:\n",
    "![quad_dyn](../media/quadrotor_dynamics_image.png)\n",
    "![quad_dyn_axes](../media/quadrotor_dynamics_axes_definition.png)"
   ]
  },
  {
   "cell_type": "markdown",
   "metadata": {},
   "source": [
    "# LQR Controller (baseline)\n",
    "\n",
    "The LQR formulation we used is a simple linearlization of the system about hover (i.e. all thrust vectors point straight down and sum to counter gravity).\n",
    "\n",
    "This linearization gives us the following approximation of the system's dynamics:\n",
    "\n",
    "$$x_{t+1} = A x_{t} + B u_{t}$$\n",
    "\n",
    "Where A is the state Jacobian and B is the input Jacobian:\n",
    "$$A = \\frac{\\partial x_{t+1}}{\\partial x_{t}}, \\quad B = \\frac{\\partial x_{t+1}}{\\partial u_{t}}$$\n",
    "\n",
    "This works so long as the quadrotor stays close to the point its dynamics were linearized about."
   ]
  },
  {
   "cell_type": "code",
   "execution_count": 14,
   "metadata": {},
   "outputs": [
    {
     "ename": "LoadError",
     "evalue": "UndefVarError: wd not defined",
     "output_type": "error",
     "traceback": [
      "UndefVarError: wd not defined",
      "",
      "Stacktrace:",
      "  [1] simulate_random_walk_wind_traj(move::Int64)",
      "    @ Main ~/Documents/ocrl_hw/Quadrotor_MPC_with_Kalman_Filter/src/dynamics.jl:0",
      "  [2] dynamics(x::Vector{ForwardDiff.Dual{ForwardDiff.Tag{var\"#76#78\"{Vector{Float64}, Float64}, Float64}, Float64, 7}}, u::Vector{Float64}, wind_disturbance::Bool)",
      "    @ Main ~/Documents/ocrl_hw/Quadrotor_MPC_with_Kalman_Filter/src/dynamics.jl:50",
      "  [3] dynamics",
      "    @ ~/Documents/ocrl_hw/Quadrotor_MPC_with_Kalman_Filter/src/dynamics.jl:33 [inlined]",
      "  [4] rk4(x::Vector{ForwardDiff.Dual{ForwardDiff.Tag{var\"#76#78\"{Vector{Float64}, Float64}, Float64}, Float64, 7}}, u::Vector{Float64}, dt::Float64)",
      "    @ Main ~/Documents/ocrl_hw/Quadrotor_MPC_with_Kalman_Filter/src/dynamics.jl:71",
      "  [5] #76",
      "    @ ~/Documents/ocrl_hw/Quadrotor_MPC_with_Kalman_Filter/src/dynamics.jl:85 [inlined]",
      "  [6] chunk_mode_jacobian(f::var\"#76#78\"{Vector{Float64}, Float64}, x::Vector{Float64}, cfg::ForwardDiff.JacobianConfig{ForwardDiff.Tag{var\"#76#78\"{Vector{Float64}, Float64}, Float64}, Float64, 7, Vector{ForwardDiff.Dual{ForwardDiff.Tag{var\"#76#78\"{Vector{Float64}, Float64}, Float64}, Float64, 7}}})",
      "    @ ForwardDiff ~/.julia/packages/ForwardDiff/jJIvy/src/jacobian.jl:227",
      "  [7] jacobian(f::Function, x::Vector{Float64}, cfg::ForwardDiff.JacobianConfig{ForwardDiff.Tag{var\"#76#78\"{Vector{Float64}, Float64}, Float64}, Float64, 7, Vector{ForwardDiff.Dual{ForwardDiff.Tag{var\"#76#78\"{Vector{Float64}, Float64}, Float64}, Float64, 7}}}, ::Val{true})",
      "    @ ForwardDiff ~/.julia/packages/ForwardDiff/jJIvy/src/jacobian.jl:23",
      "  [8] jacobian(f::Function, x::Vector{Float64}, cfg::ForwardDiff.JacobianConfig{ForwardDiff.Tag{var\"#76#78\"{Vector{Float64}, Float64}, Float64}, Float64, 7, Vector{ForwardDiff.Dual{ForwardDiff.Tag{var\"#76#78\"{Vector{Float64}, Float64}, Float64}, Float64, 7}}}) (repeats 2 times)",
      "    @ ForwardDiff ~/.julia/packages/ForwardDiff/jJIvy/src/jacobian.jl:19",
      "  [9] dynamics_jacobians(x::Vector{Float64}, u::Vector{Float64}, dt::Float64)",
      "    @ Main ~/Documents/ocrl_hw/Quadrotor_MPC_with_Kalman_Filter/src/dynamics.jl:85",
      " [10] top-level scope",
      "    @ In[14]:29",
      " [11] eval",
      "    @ ./boot.jl:360 [inlined]",
      " [12] include_string(mapexpr::typeof(REPL.softscope), mod::Module, code::String, filename::String)",
      "    @ Base ./loading.jl:1116"
     ]
    }
   ],
   "source": [
    "include(\"quaternions.jl\")\n",
    "include(\"dynamics.jl\")\n",
    "include(\"LQR_controller.jl\")\n",
    "nx = 13\n",
    "nu = 4\n",
    "dt = 0.025\n",
    "T = 5.0\n",
    "N = Int(T / dt)\n",
    "\n",
    "model = Quadrotor()\n",
    "\n",
    "x0 = zeros(nx)\n",
    "# x0[4:7] .= [  0.9045898, 0.1836784, -0.3379966, 0.1836784] # quat version of (10, 10, 10) [deg] euler angles\n",
    "x0[4] = 1.0 # enforce unit-norm constraint on quat\n",
    "uhover = fill(mass * g / nu, nu) \n",
    "\n",
    "Q = diagm(ones(nx-1))\n",
    "# Q[1:3,1:3] .= 100.0*I(3)\n",
    "# Q[4:6,4:6] .= 1e5*I(3)\n",
    "R = diagm(ones(nu))\n",
    "\n",
    "Uref = [copy(uhover) for i = 1:N-1];\n",
    "tref = LinRange(0.0, T, N);\n",
    "\n",
    "# x_dot = dynamics(x0, uhover)\n",
    "A, B = dynamics_jacobians(x0, uhover, dt)\n",
    "J_attitude = attitude_jacobian(x0)\n",
    "Ã = J_attitude'*A*J_attitude\n",
    "B̃ = J_attitude'*B\n",
    "K_LQR = lqr(Ã, B̃, Q, R, tol=1e-3);"
   ]
  },
  {
   "cell_type": "code",
   "execution_count": 3,
   "metadata": {},
   "outputs": [
    {
     "ename": "LoadError",
     "evalue": "UndefVarError: uhover not defined",
     "output_type": "error",
     "traceback": [
      "UndefVarError: uhover not defined",
      "",
      "Stacktrace:",
      " [1] (::var\"#36#37\")(i::Int64)",
      "   @ Main ./none:0",
      " [2] iterate",
      "   @ ./generator.jl:47 [inlined]",
      " [3] collect(itr::Base.Generator{UnitRange{Int64}, var\"#36#37\"})",
      "   @ Base ./array.jl:681",
      " [4] top-level scope",
      "   @ In[3]:4",
      " [5] eval",
      "   @ ./boot.jl:360 [inlined]",
      " [6] include_string(mapexpr::typeof(REPL.softscope), mod::Module, code::String, filename::String)",
      "   @ Base ./loading.jl:1116"
     ]
    }
   ],
   "source": [
    "include(\"quadrotor.jl\")\n",
    "include(\"dynamics.jl\")\n",
    "X_LQR = [zeros(nx) for i = 1:N]\n",
    "U_LQR = [copy(uhover) for i = 1:N-1]\n",
    "\n",
    "# X_line = line_reference(N, dt)\n",
    "X_line = flip_reference(N, dt)\n",
    "# X_line = altro_reference_circle(N, dt, model)\n",
    "\n",
    "X_LQR[1][1:4] .= X_line[1][1:4]\n",
    "# println(X_LQR[1])\n",
    "# X_LQR[1][4] = 1.0\n",
    "\n",
    "vals_ref = zeros(N,3)\n",
    "vals_ref[1,:] .= X_line[1][1:3]\n",
    "vals_act = zeros(N,3)\n",
    "vals_act[1,:] .= X_LQR[1][1:3]\n",
    "\n",
    "for k = 1:N-1\n",
    "    \n",
    "    dϕ = ϕ(quat_L(X_line[k][4:7])' * X_LQR[k][4:7])\n",
    "    dX = vcat([(X_LQR[k] - X_line[k])[1:3]' dϕ' (X_LQR[k] - X_line[k])[8:end]'])'\n",
    "    \n",
    "    U_LQR[k] .= U_LQR[k] - (K_LQR * dX)[:,1]\n",
    "    X_LQR[k+1] .= rk4(X_LQR[k], U_LQR[k], dt)[:,1]\n",
    "    \n",
    "    vals_ref[k+1,:] .= X_line[k+1][1:3]\n",
    "    vals_act[k+1,:] .= X_LQR[k+1][1:3]\n",
    "\n",
    "end\n",
    "\n",
    "plot(tref, vals_ref, line=:dash, label=[\"x_ref\" \"y_ref\" \"z_ref\"], title=\"LQR Controller Trajectory Following\",\n",
    "    xlabel=\"Time [sec]\", ylabel=\"Position [m]\")\n",
    "plot!(tref, vals_act, label=[\"x_act\" \"y_act\" \"z_act\"])"
   ]
  },
  {
   "cell_type": "code",
   "execution_count": 4,
   "metadata": {
    "scrolled": false
   },
   "outputs": [
    {
     "name": "stderr",
     "output_type": "stream",
     "text": [
      "┌ Info: MeshCat server started. You can open the visualizer by visiting the following URL in your browser:\n",
      "│ http://127.0.0.1:8706\n",
      "└ @ MeshCat /home/cory/.julia/packages/MeshCat/Ax8pH/src/visualizer.jl:73\n"
     ]
    },
    {
     "data": {
      "text/html": [
       "    <div style=\"height: 500px; width: 100%; overflow-x: auto; overflow-y: hidden; resize: both\">\n",
       "    <iframe src=\"http://127.0.0.1:8706\" style=\"width: 100%; height: 100%; border: none\"></iframe>\n",
       "    </div>\n"
      ],
      "text/plain": [
       "MeshCat.DisplayedVisualizer(MeshCat.CoreVisualizer(MeshCat.SceneTrees.SceneNode(nothing, nothing, Dict{String, Vector{UInt8}}(), nothing, Dict{String, MeshCat.SceneTrees.SceneNode}(\"meshcat\" => MeshCat.SceneTrees.SceneNode(nothing, nothing, Dict{String, Vector{UInt8}}(), nothing, Dict{String, MeshCat.SceneTrees.SceneNode}(\"robot\" => MeshCat.SceneTrees.SceneNode(nothing, nothing, Dict{String, Vector{UInt8}}(), nothing, Dict{String, MeshCat.SceneTrees.SceneNode}(\"geom\" => MeshCat.SceneTrees.SceneNode(UInt8[0x83, 0xa6, 0x6f, 0x62, 0x6a, 0x65, 0x63, 0x74, 0x84, 0xaa  …  0x72, 0x6f, 0x62, 0x6f, 0x74, 0x2f, 0x67, 0x65, 0x6f, 0x6d], nothing, Dict{String, Vector{UInt8}}(), nothing, Dict{String, MeshCat.SceneTrees.SceneNode}()))))))), Set{Any}(), ip\"127.0.0.1\", 8706))"
      ]
     },
     "execution_count": 4,
     "metadata": {},
     "output_type": "execute_result"
    }
   ],
   "source": [
    "# Visualize solution\n",
    "vis = Visualizer()\n",
    "set_mesh!(vis, model)\n",
    "render(vis)\n"
   ]
  },
  {
   "cell_type": "code",
   "execution_count": 5,
   "metadata": {
    "scrolled": false
   },
   "outputs": [
    {
     "ename": "LoadError",
     "evalue": "InterruptException:",
     "output_type": "error",
     "traceback": [
      "InterruptException:",
      "",
      "Stacktrace:",
      " [1] altro_reference(N::Int64, dt::Float64, model::Quadrotor{UnitQuaternion{Float64}, 9}, x0::SVector{13, Float64}, xf::SVector{13, Float64})",
      "   @ Main ~/Documents/ocrl_hw/Quadrotor_MPC_with_Kalman_Filter/src/quadrotor.jl:193",
      " [2] altro_reference_circle(N::Int64, dt::Float64, model::Quadrotor{UnitQuaternion{Float64}, 9})",
      "   @ Main ~/Documents/ocrl_hw/Quadrotor_MPC_with_Kalman_Filter/src/quadrotor.jl:104",
      " [3] top-level scope",
      "   @ In[5]:4",
      " [4] eval",
      "   @ ./boot.jl:360 [inlined]",
      " [5] include_string(mapexpr::typeof(REPL.softscope), mod::Module, code::String, filename::String)",
      "   @ Base ./loading.jl:1116"
     ]
    }
   ],
   "source": [
    "include(\"quadrotor.jl\");\n",
    "# line_ref = line_reference(N, dt)\n",
    "# flip_ref = flip_reference(N, dt)\n",
    "flip_ref = altro_reference_circle(N, dt, model)\n",
    "visualize!(vis, model, dt*(N-1), flip_ref)\n",
    "plot(tref, vals_act, line=:dash, label=[\"x_ref\" \"y_ref\" \"z_ref\"], title=\"LQR Controller Trajectory Following\",\n",
    "    xlabel=\"Time [sec]\", ylabel=\"Position [m]\")\n",
    "# visualize!(vis, model, dt*(N-1), X_LQR)"
   ]
  },
  {
   "cell_type": "markdown",
   "metadata": {},
   "source": [
    "# MPC Controller\n",
    "\n",
    "**TODO: include constraints in this outline**\n",
    "\n",
    "The MPC controller works by solving the following QP:\n",
    "$$ \\begin{align}\n",
    "    &\\text{minimize}_{z} && \\frac{1}{2} z^T P z\\\\\n",
    "    &\\text{subject to} && D z = d \\\\\n",
    "    &&& C z \\leq d \\\\\n",
    "\\end{align} $$\n",
    "\n",
    "where $z$ is the concatenated vector of states and controls at each time step. Since we've linearized our system about the point $(x_\\text{eq}, u_\\text{eq})$, these state and controls are defined relative to this reference. The equality constraints are just the linearized dynamics constraints:\n",
    "\n",
    "$$ \n",
    "\\begin{bmatrix} \n",
    "    B & -I \\\\ \n",
    "      & A & B & -I \\\\\n",
    "      &   &   &   & \\ddots \\\\\n",
    "      &   &   &   & & A & B -I \\\\\n",
    "\\end{bmatrix}\n",
    "\\begin{bmatrix} u_0 \\\\ x_1 \\\\ u_1 \\\\ \\vdots \\\\ x_{N-1} \\\\ u_{N-1} \\\\ x_N \\end{bmatrix} = \n",
    "\\begin{bmatrix} -A (x_k - x_{ref,k}) \\\\ 0 \\\\ \\vdots \\\\ 0 \\end{bmatrix}\n",
    "$$\n",
    "\n",
    "TODO: explain re-linearization step using feed-forward dynamics\n",
    "\n",
    "and the cost matrix $P$ is defined as:\n",
    "$$\n",
    "P = \\begin{bmatrix}\n",
    "R \\\\\n",
    "& Q \\\\\n",
    "&& \\ddots \\\\\n",
    "&&& R \\\\\n",
    "&&&& Q_f\n",
    "\\end{bmatrix}\n",
    "$$"
   ]
  },
  {
   "cell_type": "code",
   "execution_count": 6,
   "metadata": {},
   "outputs": [
    {
     "ename": "LoadError",
     "evalue": "UndefVarError: uhover not defined",
     "output_type": "error",
     "traceback": [
      "UndefVarError: uhover not defined",
      "",
      "Stacktrace:",
      " [1] (::var\"#66#67\")(i::Int64)",
      "   @ Main ./none:0",
      " [2] iterate",
      "   @ ./generator.jl:47 [inlined]",
      " [3] collect(itr::Base.Generator{UnitRange{Int64}, var\"#66#67\"})",
      "   @ Base ./array.jl:681",
      " [4] top-level scope",
      "   @ In[6]:11",
      " [5] eval",
      "   @ ./boot.jl:360 [inlined]",
      " [6] include_string(mapexpr::typeof(REPL.softscope), mod::Module, code::String, filename::String)",
      "   @ Base ./loading.jl:1116"
     ]
    }
   ],
   "source": [
    "include(\"dynamics.jl\")\n",
    "include(\"quadrotor.jl\")\n",
    "include(\"quaternions.jl\")\n",
    "\n",
    "const n = state_dim(model)\n",
    "const m = control_dim(model)\n",
    "\n",
    "line_ref = line_reference(N, dt)\n",
    "flip_ref = flip_reference(N, dt)\n",
    "\n",
    "Uref = [copy(uhover) for i = 1:N]\n",
    "umin = -5*uhover[1]\n",
    "umax = 5*uhover[1]\n",
    "\n",
    "A = []\n",
    "B = []\n",
    "\n",
    "for i=1:N\n",
    "#     angle = angle_of_rotation_q(flip_ref[1][4:7])\n",
    "#     thrust_des = uhover / cos(angle*2)\n",
    "#     clamp!(thrust_des, umin, umax)\n",
    "#     Uref[i] = thrust_des\n",
    "    \n",
    "    A_i, B_i = dynamics_jacobians(flip_ref[i],Uref[i],dt)\n",
    "    J_attitude = attitude_jacobian(flip_ref[i])\n",
    "    Ã_i = J_attitude'*A_i*J_attitude\n",
    "    B̃_i = J_attitude'*B_i\n",
    "    push!(A, Ã_i)\n",
    "    push!(B, B̃_i)\n",
    "    \n",
    "end"
   ]
  },
  {
   "cell_type": "code",
   "execution_count": 7,
   "metadata": {},
   "outputs": [
    {
     "ename": "LoadError",
     "evalue": "UndefVarError: Uref not defined",
     "output_type": "error",
     "traceback": [
      "UndefVarError: Uref not defined",
      "",
      "Stacktrace:",
      " [1] top-level scope",
      "   @ In[7]:24",
      " [2] eval",
      "   @ ./boot.jl:360 [inlined]",
      " [3] include_string(mapexpr::typeof(REPL.softscope), mod::Module, code::String, filename::String)",
      "   @ Base ./loading.jl:1116"
     ]
    }
   ],
   "source": [
    "include(\"MPC.jl\")\n",
    "include(\"quaternions.jl\")\n",
    "\n",
    "# note: lower Q value means controller will be less inclined to adjust those values away from ref traj\n",
    "# ... maybe. I actually think it may be the opposite\n",
    "\n",
    "Q = 1.0*I(nx-1)\n",
    "# Q[1:3,1:3] *= 0.1\n",
    "Q[4:7,4:7] *= 10 # attitude\n",
    "# Q[1:2] *= 0.05 \n",
    "# Q[8:end] *= 10 # vel and angular vel\n",
    "# Q[11,11] *= 0.01 # x angular vel\n",
    "R = 1e-5*I(nu)\n",
    "Qf = 1.0*I(nx-1)\n",
    "Qf[1:3,1:3] *= 1e-3\n",
    "Nmpc = 100\n",
    "\n",
    "x0 = zeros(nx)\n",
    "for i=1:7\n",
    "    x0[i] = flip_ref[1][i]\n",
    "end\n",
    "\n",
    "\n",
    "mpc = build_MPC_QP(flip_ref, Uref, tref, A, B, Q, R, Qf);\n",
    "X_mpc,U_mpc,t_mpc = simulate(model, x0, mpc, A, B, tf=T);"
   ]
  },
  {
   "cell_type": "code",
   "execution_count": 8,
   "metadata": {},
   "outputs": [
    {
     "name": "stderr",
     "output_type": "stream",
     "text": [
      "┌ Info: MeshCat server started. You can open the visualizer by visiting the following URL in your browser:\n",
      "│ http://127.0.0.1:8707\n",
      "└ @ MeshCat /home/cory/.julia/packages/MeshCat/Ax8pH/src/visualizer.jl:73\n"
     ]
    },
    {
     "data": {
      "text/html": [
       "    <div style=\"height: 500px; width: 100%; overflow-x: auto; overflow-y: hidden; resize: both\">\n",
       "    <iframe src=\"http://127.0.0.1:8707\" style=\"width: 100%; height: 100%; border: none\"></iframe>\n",
       "    </div>\n"
      ],
      "text/plain": [
       "MeshCat.DisplayedVisualizer(MeshCat.CoreVisualizer(MeshCat.SceneTrees.SceneNode(nothing, nothing, Dict{String, Vector{UInt8}}(), nothing, Dict{String, MeshCat.SceneTrees.SceneNode}(\"meshcat\" => MeshCat.SceneTrees.SceneNode(nothing, nothing, Dict{String, Vector{UInt8}}(), nothing, Dict{String, MeshCat.SceneTrees.SceneNode}(\"robot\" => MeshCat.SceneTrees.SceneNode(nothing, nothing, Dict{String, Vector{UInt8}}(), nothing, Dict{String, MeshCat.SceneTrees.SceneNode}(\"geom\" => MeshCat.SceneTrees.SceneNode(UInt8[0x83, 0xa6, 0x6f, 0x62, 0x6a, 0x65, 0x63, 0x74, 0x84, 0xaa  …  0x72, 0x6f, 0x62, 0x6f, 0x74, 0x2f, 0x67, 0x65, 0x6f, 0x6d], nothing, Dict{String, Vector{UInt8}}(), nothing, Dict{String, MeshCat.SceneTrees.SceneNode}()))))))), Set{Any}(), ip\"127.0.0.1\", 8707))"
      ]
     },
     "execution_count": 8,
     "metadata": {},
     "output_type": "execute_result"
    }
   ],
   "source": [
    "# Visualize solution\n",
    "vis = Visualizer()\n",
    "set_mesh!(vis, model)\n",
    "render(vis)"
   ]
  },
  {
   "cell_type": "code",
   "execution_count": 9,
   "metadata": {},
   "outputs": [
    {
     "ename": "LoadError",
     "evalue": "UndefVarError: X_mpc not defined",
     "output_type": "error",
     "traceback": [
      "UndefVarError: X_mpc not defined",
      "",
      "Stacktrace:",
      " [1] top-level scope",
      "   @ In[9]:1",
      " [2] eval",
      "   @ ./boot.jl:360 [inlined]",
      " [3] include_string(mapexpr::typeof(REPL.softscope), mod::Module, code::String, filename::String)",
      "   @ Base ./loading.jl:1116"
     ]
    }
   ],
   "source": [
    "visualize!(vis, model, dt*(N-1), X_mpc)\n",
    "# visualize!(vis, model, dt*(N-1), flip_ref)"
   ]
  },
  {
   "cell_type": "code",
   "execution_count": 10,
   "metadata": {},
   "outputs": [
    {
     "ename": "LoadError",
     "evalue": "UndefVarError: X_mpc not defined",
     "output_type": "error",
     "traceback": [
      "UndefVarError: X_mpc not defined",
      "",
      "Stacktrace:",
      " [1] top-level scope",
      "   @ In[10]:4",
      " [2] eval",
      "   @ ./boot.jl:360 [inlined]",
      " [3] include_string(mapexpr::typeof(REPL.softscope), mod::Module, code::String, filename::String)",
      "   @ Base ./loading.jl:1116"
     ]
    }
   ],
   "source": [
    "include(\"plotter.jl\")\n",
    "labs = [\"x\", \"y\", \"z\"]\n",
    "indices = 1:3\n",
    "plot_vals(flip_ref, X_mpc, indices, labs, \"MPC position\")"
   ]
  },
  {
   "cell_type": "code",
   "execution_count": 11,
   "metadata": {},
   "outputs": [
    {
     "ename": "LoadError",
     "evalue": "UndefVarError: X_mpc not defined",
     "output_type": "error",
     "traceback": [
      "UndefVarError: X_mpc not defined",
      "",
      "Stacktrace:",
      " [1] top-level scope",
      "   @ In[11]:3",
      " [2] eval",
      "   @ ./boot.jl:360 [inlined]",
      " [3] include_string(mapexpr::typeof(REPL.softscope), mod::Module, code::String, filename::String)",
      "   @ Base ./loading.jl:1116"
     ]
    }
   ],
   "source": [
    "labs = [\"q0\", \"q1\", \"q2\", \"q3\"]\n",
    "indices = 4:7\n",
    "plot_vals(flip_ref, X_mpc, indices, labs, \"MPC attitude\")"
   ]
  },
  {
   "cell_type": "code",
   "execution_count": 12,
   "metadata": {},
   "outputs": [
    {
     "ename": "LoadError",
     "evalue": "UndefVarError: X_mpc not defined",
     "output_type": "error",
     "traceback": [
      "UndefVarError: X_mpc not defined",
      "",
      "Stacktrace:",
      " [1] top-level scope",
      "   @ In[12]:3",
      " [2] eval",
      "   @ ./boot.jl:360 [inlined]",
      " [3] include_string(mapexpr::typeof(REPL.softscope), mod::Module, code::String, filename::String)",
      "   @ Base ./loading.jl:1116"
     ]
    }
   ],
   "source": [
    "labs = [\"ωx\", \"ωy\", \"ωz\"]\n",
    "indices = 11:13\n",
    "plot_vals(flip_ref, X_mpc, indices, labs, \"MPC angular velocity\")"
   ]
  },
  {
   "cell_type": "code",
   "execution_count": 13,
   "metadata": {},
   "outputs": [
    {
     "ename": "LoadError",
     "evalue": "UndefVarError: X_mpc not defined",
     "output_type": "error",
     "traceback": [
      "UndefVarError: X_mpc not defined",
      "",
      "Stacktrace:",
      " [1] top-level scope",
      "   @ In[13]:3",
      " [2] eval",
      "   @ ./boot.jl:360 [inlined]",
      " [3] include_string(mapexpr::typeof(REPL.softscope), mod::Module, code::String, filename::String)",
      "   @ Base ./loading.jl:1116"
     ]
    }
   ],
   "source": [
    "labs = [\"vx\", \"vy\", \"vz\"]\n",
    "indices = 8:10\n",
    "plot_vals(flip_ref, X_mpc, indices, labs, \"MPC velocity\")"
   ]
  },
  {
   "cell_type": "code",
   "execution_count": null,
   "metadata": {},
   "outputs": [],
   "source": []
  },
  {
   "cell_type": "code",
   "execution_count": null,
   "metadata": {},
   "outputs": [],
   "source": []
  },
  {
   "cell_type": "code",
   "execution_count": null,
   "metadata": {},
   "outputs": [],
   "source": []
  }
 ],
 "metadata": {
  "kernelspec": {
   "display_name": "Julia 1.6.5",
   "language": "julia",
   "name": "julia-1.6"
  },
  "language_info": {
   "file_extension": ".jl",
   "mimetype": "application/julia",
   "name": "julia",
   "version": "1.6.5"
  }
 },
 "nbformat": 4,
 "nbformat_minor": 4
}
