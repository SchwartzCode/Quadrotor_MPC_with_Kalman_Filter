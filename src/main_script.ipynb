{
 "cells": [
  {
   "cell_type": "code",
   "execution_count": 1,
   "metadata": {},
   "outputs": [
    {
     "name": "stderr",
     "output_type": "stream",
     "text": [
      "\u001b[32m\u001b[1m  Activating\u001b[22m\u001b[39m environment at `C:\\Users\\jonbs\\Documents\\JonathanStuff\\CMU_Stuff\\year2\\OCRL\\Quadrotor_MPC_with_Kalman_Filter\\Project.toml`\n"
     ]
    }
   ],
   "source": [
    "import Pkg; Pkg.activate(joinpath(@__DIR__,\"..\")); Pkg.instantiate()\n",
    "using LinearAlgebra\n",
    "using SparseArrays\n",
    "using ForwardDiff\n",
    "using OSQP\n",
    "using RobotDynamics\n",
    "using RobotZoo: PlanarRocket\n",
    "using RobotZoo\n",
    "using StaticArrays\n",
    "using Plots\n",
    "using JLD2\n",
    "using Test\n",
    "using Statistics\n",
    "\n",
    "const FD = ForwardDiff;\n",
    "\n",
    "include(\"quadrotor.jl\");"
   ]
  },
  {
   "cell_type": "markdown",
   "metadata": {},
   "source": [
    "## Quadrotor Dynamics Model\n",
    "\n",
    "The derivation of the 3d Quadrotor Dynamics model we use is available in [Lecture 15's Notes](https://github.com/Optimal-Control-16-745/lecture-notebooks/blob/main/Lecture%2015/Lecture%2015.pdf)\n",
    "\n",
    "$$ \n",
    "x = \\begin{bmatrix} {}^{N}r \\\\ q \\\\ {}^{B}V \\\\ {}^{B}\\omega \\end{bmatrix}, \\quad\n",
    "\\dot{x} = \n",
    "\\begin{bmatrix} \n",
    "    Q {}^{B}V \\\\\n",
    "    \\frac{1}{2} L(q) H {}^{B}\\omega \\\\\n",
    "    \\frac{1}{m} {}^{B}F - {}^{B}\\omega \\times {}^{B}V \\\\\n",
    "    J^{-1} ({}^{B}\\tau - {}^{B}\\omega \\times J {}^{B}\\omega)\n",
    "\\end{bmatrix}\n",
    "$$\n",
    "\n",
    "Where:\n",
    "$$\n",
    "{}^{B}F = Q^T\n",
    "\\begin{bmatrix}\n",
    "0 \\\\ 0 \\\\ -mg\n",
    "\\end{bmatrix}\n",
    "+ \n",
    "\\begin{bmatrix}\n",
    "    0 & 0 & 0 & 0 \\\\\n",
    "    0 & 0 & 0 & 0 \\\\\n",
    "    k_T & k_T & k_T & k_T\n",
    "\\end{bmatrix} u\n",
    "$$\n",
    "\n",
    "$$\n",
    "{}^{B}\\tau = \n",
    "\\begin{bmatrix}\n",
    "    0 & s k_T & 0 & -s k_T \\\\\n",
    "    -s k_T & 0 & s k_T & 0 \\\\\n",
    "    k_m & -k_m & k_m & -k_m\n",
    "\\end{bmatrix} u\n",
    "$$\n",
    "\n",
    "Note that a rotation matrix $Q$ can be obtained from a quaternion $q$ via:\n",
    "$$ \n",
    "Q = R^T(q) L(q)\n",
    "$$\n",
    "\n",
    "Such that:\n",
    "$$\n",
    "\\begin{bmatrix} 0 \\\\ {}^{N}x \\end{bmatrix} = Q \\begin{bmatrix} 0 \\\\ {}^{B}x \\end{bmatrix}\n",
    "$$\n",
    "\n",
    "For more information on the quaternion math, check out `src/quaternions.jl`\n",
    "\n",
    "The model is defined like so:\n",
    "![quad_dyn](../media/quadrotor_dynamics_image.png)\n",
    "![quad_dyn_axes](../media/quadrotor_dynamics_axes_definition.png)"
   ]
  },
  {
   "cell_type": "code",
   "execution_count": 64,
   "metadata": {},
   "outputs": [
    {
     "data": {
      "text/plain": [
       "([1.0 0.0 … 2.5546875000000006e-5 0.0; 0.0 1.0 … 0.0 0.0; … ; 0.0 0.0 … 1.0 0.0; 0.0 0.0 … 0.0 1.0], [-2.661132812500001e-6 0.0 2.661132812500001e-6 0.0; 0.0 -2.661132812500001e-6 0.0 2.661132812500001e-6; … ; -0.4166666666666668 0.0 0.4166666666666668 0.0; 5.555555555555555 -5.555555555555555 5.555555555555555 -5.555555555555555])"
      ]
     },
     "execution_count": 64,
     "metadata": {},
     "output_type": "execute_result"
    }
   ],
   "source": [
    "include(\"quaternions.jl\")\n",
    "include(\"dynamics.jl\")\n",
    "# TODO: something to verify dynamics funcs work\n",
    "const nx = 13\n",
    "const nu = 4\n",
    "const dt = 0.025\n",
    "const T = 5.0\n",
    "const N = Int(T / dt)\n",
    "\n",
    "x0 = zeros(nx)\n",
    "# x0[4:7] .= [  0.9045898, 0.1836784, -0.3379966, 0.1836784] # quat version of (10, 10, 10) [deg] euler angles\n",
    "x0[4] = 1.0 # enforce unit-norm constraint on quat\n",
    "uhover = fill(mass * g / nu, nu) \n",
    "\n",
    "x_dot = dynamics(x0, uhover)\n",
    "\n",
    "A, B = dynamics_jacobians(x0, uhover, dt)"
   ]
  },
  {
   "cell_type": "code",
   "execution_count": 69,
   "metadata": {},
   "outputs": [],
   "source": [
    "# Reference Trajectory\n",
    "\n",
    "# TODO: make a function that auto-generates trajetories with trapezoidal velocity profiles (or something better)\n",
    "model = Quadrotor()\n",
    "Xref = [ [i/100.0 i/100.0 i/100.0 1 zeros(9)'] for i = 1:N]; # Note: the 1 is to make quats unit norm\n",
    "# Xref = zeros(N,nx);\n",
    "Uref = [copy(uhover) for i = 1:N-1];\n",
    "tref = LinRange(0.0, T, N);\n",
    "\n",
    "# mpc = build_MPC_QP(Xref, Uref, tref, A, B, Q, R, Qf) "
   ]
  },
  {
   "cell_type": "code",
   "execution_count": 31,
   "metadata": {
    "scrolled": false
   },
   "outputs": [
    {
     "name": "stderr",
     "output_type": "stream",
     "text": [
      "┌ Info: MeshCat server started. You can open the visualizer by visiting the following URL in your browser:\n",
      "│ http://127.0.0.1:8704\n",
      "└ @ MeshCat C:\\Users\\jonbs\\.julia\\packages\\MeshCat\\Ax8pH\\src\\visualizer.jl:73\n"
     ]
    },
    {
     "data": {
      "text/html": [
       "    <div style=\"height: 500px; width: 100%; overflow-x: auto; overflow-y: hidden; resize: both\">\n",
       "    <iframe src=\"http://127.0.0.1:8704\" style=\"width: 100%; height: 100%; border: none\"></iframe>\n",
       "    </div>\n"
      ],
      "text/plain": [
       "MeshCat.DisplayedVisualizer(MeshCat.CoreVisualizer(MeshCat.SceneTrees.SceneNode(nothing, nothing, Dict{String, Vector{UInt8}}(), nothing, Dict{String, MeshCat.SceneTrees.SceneNode}(\"meshcat\" => MeshCat.SceneTrees.SceneNode(nothing, nothing, Dict{String, Vector{UInt8}}(), nothing, Dict{String, MeshCat.SceneTrees.SceneNode}(\"robot\" => MeshCat.SceneTrees.SceneNode(nothing, nothing, Dict{String, Vector{UInt8}}(), nothing, Dict{String, MeshCat.SceneTrees.SceneNode}(\"geom\" => MeshCat.SceneTrees.SceneNode(UInt8[0x83, 0xa6, 0x6f, 0x62, 0x6a, 0x65, 0x63, 0x74, 0x84, 0xaa  …  0x72, 0x6f, 0x62, 0x6f, 0x74, 0x2f, 0x67, 0x65, 0x6f, 0x6d], nothing, Dict{String, Vector{UInt8}}(), nothing, Dict{String, MeshCat.SceneTrees.SceneNode}()))))))), Set{Any}(), ip\"127.0.0.1\", 8704))"
      ]
     },
     "execution_count": 31,
     "metadata": {},
     "output_type": "execute_result"
    }
   ],
   "source": [
    "# Visualize solution\n",
    "vis = Visualizer()\n",
    "set_mesh!(vis, model)\n",
    "render(vis)\n"
   ]
  },
  {
   "cell_type": "code",
   "execution_count": 143,
   "metadata": {},
   "outputs": [
    {
     "name": "stdout",
     "output_type": "stream",
     "text": [
      "100\n"
     ]
    }
   ],
   "source": [
    "include(\"quadrotor.jl\");\n",
    "# line_ref = line_reference(N, dt)\n",
    "flip_ref = flip_reference(N, dt)\n",
    "visualize!(vis, model, dt*(N-1), flip_ref)"
   ]
  },
  {
   "cell_type": "code",
   "execution_count": null,
   "metadata": {},
   "outputs": [],
   "source": [
    "include(\"MPC.jl\")\n",
    "\n",
    "Q = I(nx)\n",
    "R = I(nu)\n",
    "Qf = I(nx)"
   ]
  }
 ],
 "metadata": {
  "kernelspec": {
   "display_name": "Julia 1.6.5",
   "language": "julia",
   "name": "julia-1.6"
  },
  "language_info": {
   "file_extension": ".jl",
   "mimetype": "application/julia",
   "name": "julia",
   "version": "1.6.5"
  }
 },
 "nbformat": 4,
 "nbformat_minor": 4
}
