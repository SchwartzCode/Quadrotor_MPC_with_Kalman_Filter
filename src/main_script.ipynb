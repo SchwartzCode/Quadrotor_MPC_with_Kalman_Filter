{
 "cells": [
  {
   "cell_type": "code",
   "execution_count": 1,
   "metadata": {},
   "outputs": [
    {
     "name": "stderr",
     "output_type": "stream",
     "text": [
      "\u001b[32m\u001b[1m  Activating\u001b[22m\u001b[39m environment at `~/Documents/ocrl_hw/Quadrotor_MPC_with_Kalman_Filter/Project.toml`\n"
     ]
    }
   ],
   "source": [
    "import Pkg; Pkg.activate(joinpath(@__DIR__,\"..\")); Pkg.instantiate()\n",
    "using LinearAlgebra\n",
    "using SparseArrays\n",
    "using ForwardDiff\n",
    "using OSQP\n",
    "using RobotDynamics\n",
    "using RobotZoo: PlanarRocket\n",
    "using RobotZoo\n",
    "using StaticArrays\n",
    "using Plots\n",
    "using JLD2\n",
    "using Test\n",
    "using Statistics\n",
    "\n",
    "const FD = ForwardDiff;\n",
    "\n",
    "include(\"quadrotor.jl\");"
   ]
  },
  {
   "cell_type": "markdown",
   "metadata": {},
   "source": [
    "## Quadrotor Dynamics Model\n",
    "\n",
    "The derivation of the 3d Quadrotor Dynamics model we use is available in [Lecture 15's Notes](https://github.com/Optimal-Control-16-745/lecture-notebooks/blob/main/Lecture%2015/Lecture%2015.pdf)\n",
    "\n",
    "$$ \n",
    "x = \\begin{bmatrix} {}^{N}r \\\\ q \\\\ {}^{B}V \\\\ {}^{B}\\omega \\end{bmatrix}, \\quad\n",
    "\\dot{x} = \n",
    "\\begin{bmatrix} \n",
    "    Q {}^{B}V \\\\\n",
    "    \\frac{1}{2} L(q) H {}^{B}\\omega \\\\\n",
    "    \\frac{1}{m} {}^{B}F - {}^{B}\\omega \\times {}^{B}V \\\\\n",
    "    J^{-1} ({}^{B}\\tau - {}^{B}\\omega \\times J {}^{B}\\omega)\n",
    "\\end{bmatrix}\n",
    "$$\n",
    "\n",
    "Where:\n",
    "$$\n",
    "{}^{B}F = Q^T\n",
    "\\begin{bmatrix}\n",
    "0 \\\\ 0 \\\\ -mg\n",
    "\\end{bmatrix}\n",
    "+ \n",
    "\\begin{bmatrix}\n",
    "    0 & 0 & 0 & 0 \\\\\n",
    "    0 & 0 & 0 & 0 \\\\\n",
    "    k_T & k_T & k_T & k_T\n",
    "\\end{bmatrix} u\n",
    "$$\n",
    "\n",
    "$$\n",
    "{}^{B}\\tau = \n",
    "\\begin{bmatrix}\n",
    "    0 & s k_T & 0 & -s k_T \\\\\n",
    "    -s k_T & 0 & s k_T & 0 \\\\\n",
    "    k_m & -k_m & k_m & -k_m\n",
    "\\end{bmatrix} u\n",
    "$$\n",
    "\n",
    "Note that a rotation matrix $Q$ can be obtained from a quaternion $q$ via:\n",
    "$$ \n",
    "Q = R^T(q) L(q)\n",
    "$$\n",
    "\n",
    "Such that:\n",
    "$$\n",
    "\\begin{bmatrix} 0 \\\\ {}^{N}x \\end{bmatrix} = Q \\begin{bmatrix} 0 \\\\ {}^{B}x \\end{bmatrix}\n",
    "$$\n",
    "\n",
    "For more information on the quaternion math, check out `src/quaternions.jl`\n",
    "\n",
    "The model is defined like so:\n",
    "![quad_dyn](../media/quadrotor_dynamics_image.png)\n",
    "![quad_dyn_axes](../media/quadrotor_dynamics_axes_definition.png)"
   ]
  },
  {
   "cell_type": "markdown",
   "metadata": {},
   "source": [
    "# LQR Controller (baseline)\n",
    "\n",
    "The LQR formulation we used is a simple linearlization of the system about hover (i.e. all thrust vectors point straight down and sum to counter gravity).\n",
    "\n",
    "This linearization gives us the following approximation of the system's dynamics:\n",
    "\n",
    "$$x_{t+1} = A x_{t} + B u_{t}$$\n",
    "\n",
    "Where A is the state Jacobian and B is the input Jacobian:\n",
    "$$A = \\frac{\\partial x_{t+1}}{\\partial x_{t}}, \\quad B = \\frac{\\partial x_{t+1}}{\\partial u_{t}}$$\n",
    "\n",
    "This works so long as the quadrotor stays close to the point its dynamics were linearized about."
   ]
  },
  {
   "cell_type": "code",
   "execution_count": 2,
   "metadata": {},
   "outputs": [
    {
     "name": "stdout",
     "output_type": "stream",
     "text": [
      "LQR converged in 116 iterations\n"
     ]
    }
   ],
   "source": [
    "include(\"quaternions.jl\")\n",
    "include(\"dynamics.jl\")\n",
    "include(\"LQR_controller.jl\")\n",
    "\n",
    "nx = 13\n",
    "nu = 4\n",
    "dt = 0.025\n",
    "T = 5.0\n",
    "N = Int(T / dt)\n",
    "\n",
    "model = Quadrotor()\n",
    "\n",
    "x0 = zeros(nx)\n",
    "# x0[4:7] .= [  0.9045898, 0.1836784, -0.3379966, 0.1836784] # quat version of (10, 10, 10) [deg] euler angles\n",
    "x0[4] = 1.0 # enforce unit-norm constraint on quat\n",
    "uhover = fill(mass * g / nu, nu) \n",
    "\n",
    "Q = diagm(ones(nx-1))\n",
    "# Q[1:3,1:3] .= 100.0*I(3)\n",
    "# Q[4:6,4:6] .= 1e5*I(3)\n",
    "R = diagm(ones(nu))\n",
    "\n",
    "Uref = [copy(uhover) for i = 1:N-1];\n",
    "tref = LinRange(0.0, T, N);\n",
    "\n",
    "# x_dot = dynamics(x0, uhover)\n",
    "A, B = dynamics_jacobians(x0, uhover, dt)\n",
    "J_attitude = attitude_jacobian(x0)\n",
    "Ã = J_attitude'*A*J_attitude\n",
    "B̃ = J_attitude'*B\n",
    "K_LQR = lqr(Ã, B̃, Q, R, tol=1e-3);"
   ]
  },
  {
   "cell_type": "code",
   "execution_count": null,
   "metadata": {},
   "outputs": [],
   "source": [
    "include(\"quadrotor.jl\")\n",
    "include(\"dynamics.jl\")\n",
    "X_LQR = [zeros(nx) for i = 1:N]\n",
    "U_LQR = [copy(uhover) for i = 1:N-1]\n",
    "\n",
    "# X_line = line_reference(N, dt)\n",
    "X_line = flip_reference(N, dt)\n",
    "X_LQR[1][1:4] .= X_line[1][1:4]\n",
    "# println(X_LQR[1])\n",
    "# X_LQR[1][4] = 1.0\n",
    "\n",
    "vals_ref = zeros(N,3)\n",
    "vals_ref[1,:] .= X_line[1][1:3]\n",
    "vals_act = zeros(N,3)\n",
    "vals_act[1,:] .= X_LQR[1][1:3]\n",
    "\n",
    "for k = 1:N-1\n",
    "    \n",
    "#     println(k, \"\\t\", X_LQR[k])\n",
    "    \n",
    "    dϕ = ϕ(quat_L(X_line[k][4:7])' * X_LQR[k][4:7])\n",
    "    dX = vcat([(X_LQR[k] - X_line[k])[1:3]' dϕ' (X_LQR[k] - X_line[k])[8:end]'])'\n",
    "    \n",
    "#     println(\"\\tdX: \", dX)\n",
    "\n",
    "    U_LQR[k] .= U_LQR[k] - (K_LQR * dX)[:,1]    \n",
    "    X_LQR[k+1] .= rk4(X_LQR[k], U_LQR[k], dt)[:,1]\n",
    "    \n",
    "    vals_ref[k+1,:] .= X_line[k+1][1:3]\n",
    "    vals_act[k+1,:] .= X_LQR[k+1][1:3]\n",
    "\n",
    "end\n",
    "\n",
    "plot(tref, vals_ref, line=:dash, label=[\"x_ref\" \"y_ref\" \"z_ref\"], title=\"LQR Controller Trajectory Following\",\n",
    "    xlabel=\"Time [sec]\", ylabel=\"Position [m]\")\n",
    "plot!(tref, vals_act, label=[\"x_act\" \"y_act\" \"z_act\"])"
   ]
  },
  {
   "cell_type": "code",
   "execution_count": null,
   "metadata": {
    "scrolled": false
   },
   "outputs": [],
   "source": [
    "# Visualize solution\n",
    "vis = Visualizer()\n",
    "set_mesh!(vis, model)\n",
    "render(vis)\n"
   ]
  },
  {
   "cell_type": "code",
   "execution_count": null,
   "metadata": {},
   "outputs": [],
   "source": [
    "include(\"quadrotor.jl\");\n",
    "# line_ref = line_reference(N, dt)\n",
    "flip_ref = flip_reference(N, dt)\n",
    "visualize!(vis, model, dt*(N-1), flip_ref)\n",
    "plot(tref, vals_act, line=:dash, label=[\"x_ref\" \"y_ref\" \"z_ref\"], title=\"LQR Controller Trajectory Following\",\n",
    "    xlabel=\"Time [sec]\", ylabel=\"Position [m]\")\n",
    "# visualize!(vis, model, dt*(N-1), X_LQR)"
   ]
  },
  {
   "cell_type": "markdown",
   "metadata": {},
   "source": [
    "# MPC Controller\n",
    "\n",
    "**TODO: include constraints in this outline**\n",
    "\n",
    "The MPC controller works by solving the following QP:\n",
    "$$ \\begin{align}\n",
    "    &\\text{minimize}_{z} && \\frac{1}{2} z^T P z + q^T z \\\\\n",
    "    &\\text{subject to} && D z = d \\\\\n",
    "    &&& C z \\leq d \\\\\n",
    "\\end{align} $$\n",
    "\n",
    "where $z$ is the concatenated vector of states and controls at each time step. Since we've linearized our system about the point $(x_\\text{eq}, u_\\text{eq})$, these state and controls are defined relative to this reference. The equality constraints are just the linearized dynamics constraints:\n",
    "\n",
    "$$ \n",
    "\\begin{bmatrix} \n",
    "    B & -I \\\\ \n",
    "      & A & B & -I \\\\\n",
    "      &   &   &   & \\ddots \\\\\n",
    "      &   &   &   & & A & B -I \\\\\n",
    "\\end{bmatrix}\n",
    "\\begin{bmatrix} u_0 \\\\ x_1 \\\\ u_1 \\\\ \\vdots \\\\ x_{N-1} \\\\ u_{N-1} \\\\ x_N \\end{bmatrix} = \n",
    "\\begin{bmatrix} -A (x_1 - x_{eq}) \\\\ 0 \\\\ \\vdots \\\\ 0 \\end{bmatrix}\n",
    "$$\n",
    "\n",
    "and the cost matrices $P$ and $q$ look are defined as:\n",
    "$$\n",
    "P = \\begin{bmatrix}\n",
    "R \\\\\n",
    "& Q \\\\\n",
    "&& \\ddots \\\\\n",
    "&&& R \\\\\n",
    "&&&& Q_f\n",
    "\\end{bmatrix}, \\quad\n",
    "q = \\begin{bmatrix}\n",
    "    -R(\\bar{u}_1 - u_{eq}) \\\\\n",
    "    -Q(\\bar{x}_2 - x_{eq}) \\\\\n",
    "    \\vdots \\\\\n",
    "    -R(\\bar{u}_{N-1} - u_{eq}) \\\\\n",
    "    -Q_f(\\bar{x}_N - x_{eq}) \\\\\n",
    "\\end{bmatrix}\n",
    "$$"
   ]
  },
  {
   "cell_type": "code",
   "execution_count": null,
   "metadata": {},
   "outputs": [],
   "source": [
    "include(\"MPC.jl\")\n",
    "include(\"dynamics.jl\")\n",
    "include(\"quadrotor.jl\")\n",
    "\n",
    "Q = I(nx)\n",
    "R = I(nu)\n",
    "Qf = I(nx)\n",
    "Nmpc = 50\n",
    "\n",
    "const n = state_dim(model)\n",
    "const m = control_dim(model)\n",
    "\n",
    "println(n, \"\\t\", m)\n",
    "\n",
    "# line_ref = line_reference(N, dt)\n",
    "flip_ref = flip_reference(N, dt)\n",
    "\n",
    "Uref = [copy(uhover) for i = 1:N]\n",
    "\n",
    "mpc = build_MPC_QP(line_ref, Uref, tref, A, B, Q, R, Qf);\n",
    "\n",
    "X_mpc,U_mpc,t_mpc = simulate(model, x0, mpc, tf=T);"
   ]
  },
  {
   "cell_type": "code",
   "execution_count": null,
   "metadata": {},
   "outputs": [],
   "source": [
    "# Visualize solution\n",
    "vis = Visualizer()\n",
    "set_mesh!(vis, model)\n",
    "render(vis)"
   ]
  },
  {
   "cell_type": "code",
   "execution_count": null,
   "metadata": {},
   "outputs": [],
   "source": [
    "visualize!(vis, model, dt*(N-1), X_mpc)"
   ]
  },
  {
   "cell_type": "code",
   "execution_count": null,
   "metadata": {},
   "outputs": [],
   "source": []
  },
  {
   "cell_type": "code",
   "execution_count": null,
   "metadata": {},
   "outputs": [],
   "source": []
  }
 ],
 "metadata": {
  "kernelspec": {
   "display_name": "Julia 1.6.5",
   "language": "julia",
   "name": "julia-1.6"
  },
  "language_info": {
   "file_extension": ".jl",
   "mimetype": "application/julia",
   "name": "julia",
   "version": "1.6.5"
  }
 },
 "nbformat": 4,
 "nbformat_minor": 4
}
