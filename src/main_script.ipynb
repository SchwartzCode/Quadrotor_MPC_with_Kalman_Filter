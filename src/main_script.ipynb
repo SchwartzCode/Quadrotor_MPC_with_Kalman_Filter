{
 "cells": [
  {
   "cell_type": "code",
   "execution_count": 1,
   "metadata": {},
   "outputs": [
    {
     "name": "stderr",
     "output_type": "stream",
     "text": [
      "\u001b[32m\u001b[1m  Activating\u001b[22m\u001b[39m environment at `C:\\Users\\jonbs\\Documents\\JonathanStuff\\CMU_Stuff\\year2\\OCRL\\Quadrotor_MPC_with_Kalman_Filter\\Project.toml`\n"
     ]
    }
   ],
   "source": [
    "import Pkg; Pkg.activate(joinpath(@__DIR__,\"..\")); Pkg.instantiate()\n",
    "using LinearAlgebra\n",
    "using SparseArrays\n",
    "using ForwardDiff\n",
    "using OSQP\n",
    "using RobotDynamics\n",
    "using RobotZoo: PlanarRocket\n",
    "using RobotZoo\n",
    "using StaticArrays\n",
    "using Plots\n",
    "using JLD2\n",
    "using Test\n",
    "using Statistics\n",
    "\n",
    "const FD = ForwardDiff;\n",
    "\n",
    "include(\"quadrotor.jl\");"
   ]
  },
  {
   "cell_type": "markdown",
   "metadata": {},
   "source": [
    "## Quadrotor Dynamics Model\n",
    "\n",
    "The derivation of the 3d Quadrotor Dynamics model we use is available in [Lecture 15's Notes](https://github.com/Optimal-Control-16-745/lecture-notebooks/blob/main/Lecture%2015/Lecture%2015.pdf)\n",
    "\n",
    "$$ \n",
    "x = \\begin{bmatrix} {}^{N}r \\\\ q \\\\ {}^{B}V \\\\ {}^{B}\\omega \\end{bmatrix}, \\quad\n",
    "\\dot{x} = \n",
    "\\begin{bmatrix} \n",
    "    Q {}^{B}V \\\\\n",
    "    \\frac{1}{2} L(q) H {}^{B}\\omega \\\\\n",
    "    \\frac{1}{m} {}^{B}F - {}^{B}\\omega \\times {}^{B}V \\\\\n",
    "    J^{-1} ({}^{B}\\tau - {}^{B}\\omega \\times J {}^{B}\\omega)\n",
    "\\end{bmatrix}\n",
    "$$\n",
    "\n",
    "Where:\n",
    "$$\n",
    "{}^{B}F = Q^T\n",
    "\\begin{bmatrix}\n",
    "0 \\\\ 0 \\\\ -mg\n",
    "\\end{bmatrix}\n",
    "+ \n",
    "\\begin{bmatrix}\n",
    "    0 & 0 & 0 & 0 \\\\\n",
    "    0 & 0 & 0 & 0 \\\\\n",
    "    k_T & k_T & k_T & k_T\n",
    "\\end{bmatrix} u\n",
    "$$\n",
    "\n",
    "$$\n",
    "{}^{B}\\tau = \n",
    "\\begin{bmatrix}\n",
    "    0 & s k_T & 0 & -s k_T \\\\\n",
    "    -s k_T & 0 & s k_T & 0 \\\\\n",
    "    k_m & -k_m & k_m & -k_m\n",
    "\\end{bmatrix} u\n",
    "$$\n",
    "\n",
    "Note that a rotation matrix $Q$ can be obtained from a quaternion $q$ via:\n",
    "$$ \n",
    "Q = R^T(q) L(q)\n",
    "$$\n",
    "\n",
    "Such that:\n",
    "$$\n",
    "\\begin{bmatrix} 0 \\\\ {}^{N}x \\end{bmatrix} = Q \\begin{bmatrix} 0 \\\\ {}^{B}x \\end{bmatrix}\n",
    "$$\n",
    "\n",
    "For more information on the quaternion math, check out `src/quaternions.jl`\n",
    "\n",
    "The model is defined like so:\n",
    "![quad_dyn](../media/quadrotor_dynamics_image.png)\n",
    "![quad_dyn_axes](../media/quadrotor_dynamics_axes_definition.png)"
   ]
  },
  {
   "cell_type": "code",
   "execution_count": 64,
   "metadata": {},
   "outputs": [
    {
     "data": {
      "text/plain": [
       "([1.0 0.0 … 2.5546875000000006e-5 0.0; 0.0 1.0 … 0.0 0.0; … ; 0.0 0.0 … 1.0 0.0; 0.0 0.0 … 0.0 1.0], [-2.661132812500001e-6 0.0 2.661132812500001e-6 0.0; 0.0 -2.661132812500001e-6 0.0 2.661132812500001e-6; … ; -0.4166666666666668 0.0 0.4166666666666668 0.0; 5.555555555555555 -5.555555555555555 5.555555555555555 -5.555555555555555])"
      ]
     },
     "execution_count": 64,
     "metadata": {},
     "output_type": "execute_result"
    }
   ],
   "source": [
    "include(\"quaternions.jl\")\n",
    "include(\"dynamics.jl\")\n",
    "# TODO: something to verify dynamics funcs work\n",
    "const nx = 13\n",
    "const nu = 4\n",
    "const dt = 0.025\n",
    "const T = 5.0\n",
    "const N = Int(T / dt)\n",
    "\n",
    "x0 = zeros(nx)\n",
    "# x0[4:7] .= [  0.9045898, 0.1836784, -0.3379966, 0.1836784] # quat version of (10, 10, 10) [deg] euler angles\n",
    "x0[4] = 1.0 # enforce unit-norm constraint on quat\n",
    "uhover = fill(mass * g / nu, nu) \n",
    "\n",
    "x_dot = dynamics(x0, uhover)\n",
    "\n",
    "A, B = dynamics_jacobians(x0, uhover, dt)"
   ]
  },
  {
   "cell_type": "code",
   "execution_count": 69,
   "metadata": {},
   "outputs": [],
   "source": [
    "# Reference Trajectory\n",
    "\n",
    "# TODO: make a function that auto-generates trajetories with trapezoidal velocity profiles (or something better)\n",
    "model = Quadrotor()\n",
    "Xref = [ [i/100.0 i/100.0 i/100.0 1 zeros(9)'] for i = 1:N]; # Note: the 1 is to make quats unit norm\n",
    "# Xref = zeros(N,nx);\n",
    "Uref = [copy(uhover) for i = 1:N-1];\n",
    "tref = LinRange(0.0, T, N);\n",
    "\n",
    "# mpc = build_MPC_QP(Xref, Uref, tref, A, B, Q, R, Qf) "
   ]
  },
  {
   "cell_type": "code",
   "execution_count": 31,
   "metadata": {
    "scrolled": false
   },
   "outputs": [
    {
     "name": "stderr",
     "output_type": "stream",
     "text": [
      "┌ Info: MeshCat server started. You can open the visualizer by visiting the following URL in your browser:\n",
      "│ http://127.0.0.1:8704\n",
      "└ @ MeshCat C:\\Users\\jonbs\\.julia\\packages\\MeshCat\\Ax8pH\\src\\visualizer.jl:73\n"
     ]
    },
    {
     "data": {
      "text/html": [
       "    <div style=\"height: 500px; width: 100%; overflow-x: auto; overflow-y: hidden; resize: both\">\n",
       "    <iframe src=\"http://127.0.0.1:8704\" style=\"width: 100%; height: 100%; border: none\"></iframe>\n",
       "    </div>\n"
      ],
      "text/plain": [
       "MeshCat.DisplayedVisualizer(MeshCat.CoreVisualizer(MeshCat.SceneTrees.SceneNode(nothing, nothing, Dict{String, Vector{UInt8}}(), nothing, Dict{String, MeshCat.SceneTrees.SceneNode}(\"meshcat\" => MeshCat.SceneTrees.SceneNode(nothing, nothing, Dict{String, Vector{UInt8}}(), nothing, Dict{String, MeshCat.SceneTrees.SceneNode}(\"robot\" => MeshCat.SceneTrees.SceneNode(nothing, nothing, Dict{String, Vector{UInt8}}(), nothing, Dict{String, MeshCat.SceneTrees.SceneNode}(\"geom\" => MeshCat.SceneTrees.SceneNode(UInt8[0x83, 0xa6, 0x6f, 0x62, 0x6a, 0x65, 0x63, 0x74, 0x84, 0xaa  …  0x72, 0x6f, 0x62, 0x6f, 0x74, 0x2f, 0x67, 0x65, 0x6f, 0x6d], nothing, Dict{String, Vector{UInt8}}(), nothing, Dict{String, MeshCat.SceneTrees.SceneNode}()))))))), Set{Any}(), ip\"127.0.0.1\", 8704))"
      ]
     },
     "execution_count": 31,
     "metadata": {},
     "output_type": "execute_result"
    }
   ],
   "source": [
    "# Visualize solution\n",
    "vis = Visualizer()\n",
    "set_mesh!(vis, model)\n",
    "render(vis)\n"
   ]
  },
  {
   "cell_type": "code",
   "execution_count": 185,
   "metadata": {},
   "outputs": [
    {
     "name": "stdout",
     "output_type": "stream",
     "text": [
      "BEFORE:\t[1.0, 0.0, 0.0, 0.0]\n",
      "[1.0, 0.0, 0.0, 0.0]\n",
      "[0.9994965423831852, 0.031727933498067656, 0.0, 0.0]\n",
      "[0.9979866764718843, 0.0634239196565645, 0.0, 0.0]\n",
      "[0.9954719225730845, 0.09505604330418264, 0.0, 0.0]\n",
      "[0.9919548128307952, 0.12659245357374924, 0.0, 0.0]\n",
      "[0.9874388886763943, 0.1580013959733499, 0.0, 0.0]\n",
      "[0.9819286972627066, 0.1892512443604102, 0.0, 0.0]\n",
      "[0.975429786885407, 0.22031053278654059, 0.0, 0.0]\n",
      "[0.9679487013963562, 0.25114798718107917, 0.0, 0.0]\n",
      "[0.9594929736144975, 0.2817325568414297, 0.0, 0.0]\n",
      "[0.9500711177409453, 0.31203344569848707, 0.0, 0.0]\n",
      "[0.9396926207859084, 0.3420201433256687, 0.0, 0.0]\n",
      "[0.9283679330160727, 0.3716624556603275, 0.0, 0.0]\n",
      "[0.9161084574320696, 0.40093053540661366, 0.0, 0.0]\n",
      "[0.9029265382866212, 0.42979491208917153, 0.0, 0.0]\n",
      "[0.8888354486549234, 0.45822652172741035, 0.0, 0.0]\n",
      "[0.873849377069785, 0.4861967361004687, 0.0, 0.0]\n",
      "[0.857983413234977, 0.5136773915734063, 0.0, 0.0]\n",
      "[0.8412535328311811, 0.5406408174555974, 0.0, 0.0]\n",
      "[0.8236765814298328, 0.5670598638627707, 0.0, 0.0]\n",
      "[0.8052702575310586, 0.5929079290546405, 0.0, 0.0]\n",
      "[0.7860530947427874, 0.6181589862206052, 0.0, 0.0]\n",
      "[0.766044443118978, 0.6427876096865393, 0.0, 0.0]\n",
      "[0.7452644496757548, 0.6667690005162916, 0.0, 0.0]\n",
      "[0.7237340381050702, 0.6900790114821119, 0.0, 0.0]\n",
      "[0.7014748877063213, 0.7126941713788629, 0.0, 0.0]\n",
      "[0.6785094115571322, 0.7345917086575333, 0.0, 0.0]\n",
      "[0.6548607339452851, 0.7557495743542583, 0.0, 0.0]\n",
      "[0.6305526670845225, 0.7761464642917568, 0.0, 0.0]\n",
      "[0.6056096871376667, 0.7957618405308321, 0.0, 0.0]\n",
      "[0.5800569095711982, 0.8145759520503357, 0.0, 0.0]\n",
      "[0.5539200638661103, 0.8325698546347714, 0.0, 0.0]\n",
      "[0.5272254676105025, 0.8497254299495145, 0.0, 0.0]\n",
      "[0.5000000000000001, 0.8660254037844386, 0.0, 0.0]\n",
      "[0.47227107477268276, 0.8814533634475821, 0.0, 0.0]\n",
      "[0.44406661260577424, 0.8959937742913358, 0.0, 0.0]\n",
      "[0.4154150130018865, 0.9096319953545184, 0.0, 0.0]\n",
      "[0.38634512569312857, 0.9223542941045815, 0.0, 0.0]\n",
      "[0.35688622159187183, 0.9341478602651067, 0.0, 0.0]\n",
      "[0.3270679633174218, 0.9450008187146685, 0.0, 0.0]\n",
      "[0.2969203753282749, 0.9549022414440739, 0.0, 0.0]\n",
      "[0.266473813690035, 0.9638421585599422, 0.0, 0.0]\n",
      "[0.2357589355094273, 0.9718115683235417, 0.0, 0.0]\n",
      "[0.20480666806519068, 0.9788024462147789, 0.0, 0.0]\n",
      "[0.17364817766693044, 0.9848077530122081, 0.0, 0.0]\n",
      "[0.14231483827328534, 0.9898214418809328, 0.0, 0.0]\n",
      "[0.11083819990101111, 0.9938384644612542, 0.0, 0.0]\n",
      "[0.07924995685678844, 0.9968547759519424, 0.0, 0.0]\n",
      "[0.0475819158237424, 0.998867339183008, 0.0, 0.0]\n",
      "[0.01586596383480793, 0.9998741276738751, 0.0, 0.0]\n",
      "[0.015865963834808032, -0.9998741276738752, 0.0, 0.0]\n",
      "[0.047581915823742285, -0.9988673391830081, 0.0, 0.0]\n",
      "[0.07924995685678854, -0.9968547759519424, 0.0, 0.0]\n",
      "[0.11083819990101097, -0.9938384644612541, 0.0, 0.0]\n",
      "[0.14231483827328498, -0.9898214418809327, 0.0, 0.0]\n",
      "[0.1736481776669303, -0.984807753012208, 0.0, 0.0]\n",
      "[0.2048066680651905, -0.9788024462147786, 0.0, 0.0]\n",
      "[0.2357589355094274, -0.9718115683235415, 0.0, 0.0]\n",
      "[0.26647381369003487, -0.9638421585599422, 0.0, 0.0]\n",
      "[0.2969203753282746, -0.954902241444074, 0.0, 0.0]\n",
      "[0.32706796331742166, -0.9450008187146686, 0.0, 0.0]\n",
      "[0.3568862215918718, -0.9341478602651068, 0.0, 0.0]\n",
      "[0.3863451256931287, -0.9223542941045815, 0.0, 0.0]\n",
      "[0.41541501300188627, -0.9096319953545183, 0.0, 0.0]\n",
      "[0.44406661260577407, -0.8959937742913359, 0.0, 0.0]\n",
      "[0.4722710747726826, -0.8814533634475821, 0.0, 0.0]\n",
      "[0.4999999999999998, -0.8660254037844388, 0.0, 0.0]\n",
      "[0.5272254676105025, -0.8497254299495144, 0.0, 0.0]\n",
      "[0.5539200638661103, -0.8325698546347714, 0.0, 0.0]\n",
      "[0.580056909571198, -0.8145759520503358, 0.0, 0.0]\n",
      "[0.6056096871376665, -0.7957618405308323, 0.0, 0.0]\n",
      "[0.6305526670845222, -0.776146464291757, 0.0, 0.0]\n",
      "[0.6548607339452851, -0.7557495743542584, 0.0, 0.0]\n",
      "[0.6785094115571322, -0.7345917086575334, 0.0, 0.0]\n",
      "[0.7014748877063214, -0.7126941713788627, 0.0, 0.0]\n",
      "[0.7237340381050702, -0.690079011482112, 0.0, 0.0]\n",
      "[0.7452644496757547, -0.6667690005162917, 0.0, 0.0]\n",
      "[0.7660444431189779, -0.6427876096865395, 0.0, 0.0]\n",
      "[0.7860530947427873, -0.6181589862206054, 0.0, 0.0]\n",
      "[0.8052702575310586, -0.5929079290546405, 0.0, 0.0]\n",
      "[0.8236765814298327, -0.5670598638627707, 0.0, 0.0]\n",
      "[0.8412535328311813, -0.5406408174555973, 0.0, 0.0]\n",
      "[0.8579834132349772, -0.5136773915734063, 0.0, 0.0]\n",
      "[0.873849377069785, -0.4861967361004687, 0.0, 0.0]\n",
      "[0.8888354486549234, -0.45822652172741046, 0.0, 0.0]\n",
      "[0.9029265382866212, -0.42979491208917187, 0.0, 0.0]\n",
      "[0.9161084574320696, -0.40093053540661355, 0.0, 0.0]\n",
      "[0.9283679330160726, -0.3716624556603275, 0.0, 0.0]\n",
      "[0.9396926207859083, -0.3420201433256689, 0.0, 0.0]\n",
      "[0.9500711177409453, -0.3120334456984874, 0.0, 0.0]\n",
      "[0.9594929736144973, -0.28173255684143006, 0.0, 0.0]\n",
      "[0.9679487013963562, -0.2511479871810792, 0.0, 0.0]\n",
      "[0.975429786885407, -0.2203105327865408, 0.0, 0.0]\n",
      "[0.9819286972627066, -0.18925124436041005, 0.0, 0.0]\n",
      "[0.9874388886763943, -0.15800139597334986, 0.0, 0.0]\n",
      "[0.9919548128307952, -0.12659245357374935, 0.0, 0.0]\n",
      "[0.9954719225730845, -0.09505604330418287, 0.0, 0.0]\n",
      "[0.9979866764718843, -0.06342391965656484, 0.0, 0.0]\n",
      "[0.9994965423831852, -0.031727933498067656, 0.0, 0.0]\n",
      "[1.0, -1.2246467991473532e-16, 0.0, 0.0]\n",
      "AFTER:\t[1.0, 0.0, 0.0, 0.0]\n"
     ]
    }
   ],
   "source": [
    "include(\"quadrotor.jl\");\n",
    "# line_ref = line_reference(N, dt)\n",
    "flip_ref = flip_reference(N, dt)\n",
    "visualize!(vis, model, dt*(N-1), flip_ref)"
   ]
  },
  {
   "cell_type": "code",
   "execution_count": null,
   "metadata": {},
   "outputs": [],
   "source": [
    "include(\"MPC.jl\")\n",
    "\n",
    "Q = I(nx)\n",
    "R = I(nu)\n",
    "Qf = I(nx)"
   ]
  }
 ],
 "metadata": {
  "kernelspec": {
   "display_name": "Julia 1.6.5",
   "language": "julia",
   "name": "julia-1.6"
  },
  "language_info": {
   "file_extension": ".jl",
   "mimetype": "application/julia",
   "name": "julia",
   "version": "1.6.5"
  }
 },
 "nbformat": 4,
 "nbformat_minor": 4
}
